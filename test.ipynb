{
 "cells": [
  {
   "cell_type": "code",
   "execution_count": 1,
   "metadata": {},
   "outputs": [],
   "source": [
    "%run app.py"
   ]
  },
  {
   "cell_type": "code",
   "execution_count": 14,
   "metadata": {},
   "outputs": [
    {
     "name": "stdout",
     "output_type": "stream",
     "text": [
      "2022-10-06 16:53:51,673 INFO sqlalchemy.engine.base.Engine SELECT users.user_id AS users_user_id, users.first_name AS users_first_name, users.last_name AS users_last_name, users.img_url AS users_img_url \n",
      "FROM users \n",
      "WHERE users.first_name = %(first_name_1)s\n",
      "2022-10-06 16:53:51,674 INFO sqlalchemy.engine.base.Engine {'first_name_1': 'Claudio'}\n"
     ]
    },
    {
     "data": {
      "text/plain": [
       "<User id=5 First name=Claudio last name=Sanchez image url=static/claudio.jpg>"
      ]
     },
     "execution_count": 14,
     "metadata": {},
     "output_type": "execute_result"
    }
   ],
   "source": [
    "claudio = User.query.filter_by(first_name='Claudio').one()\n",
    "\n",
    "claudio"
   ]
  },
  {
   "cell_type": "code",
   "execution_count": 7,
   "metadata": {},
   "outputs": [
    {
     "name": "stdout",
     "output_type": "stream",
     "text": [
      "2022-10-06 16:49:00,244 INFO sqlalchemy.engine.base.Engine SELECT users.user_id AS users_user_id, users.first_name AS users_first_name, users.last_name AS users_last_name, users.img_url AS users_img_url \n",
      "FROM users \n",
      "WHERE users.last_name = %(last_name_1)s \n",
      " LIMIT %(param_1)s\n",
      "2022-10-06 16:49:00,244 INFO sqlalchemy.engine.base.Engine {'last_name_1': 'Grohl', 'param_1': 1}\n"
     ]
    },
    {
     "data": {
      "text/plain": [
       "<User id=2 First name=Dave last name=Grohl image url=static/dave_grohl.png>"
      ]
     },
     "execution_count": 7,
     "metadata": {},
     "output_type": "execute_result"
    }
   ],
   "source": [
    "grohl = User.query.filter_by(last_name='Grohl').first()\n",
    "grohl"
   ]
  },
  {
   "cell_type": "code",
   "execution_count": 10,
   "metadata": {},
   "outputs": [],
   "source": [
    "grohl_post = grohl.posts[0]"
   ]
  },
  {
   "cell_type": "code",
   "execution_count": 13,
   "metadata": {},
   "outputs": [
    {
     "data": {
      "text/plain": [
       "'Wow!'"
      ]
     },
     "execution_count": 13,
     "metadata": {},
     "output_type": "execute_result"
    }
   ],
   "source": [
    "grohl_post.tag[0].tag_name"
   ]
  },
  {
   "cell_type": "code",
   "execution_count": null,
   "metadata": {},
   "outputs": [],
   "source": []
  }
 ],
 "metadata": {
  "kernelspec": {
   "display_name": "Python 3.10.4 ('venv': venv)",
   "language": "python",
   "name": "python3"
  },
  "language_info": {
   "codemirror_mode": {
    "name": "ipython",
    "version": 3
   },
   "file_extension": ".py",
   "mimetype": "text/x-python",
   "name": "python",
   "nbconvert_exporter": "python",
   "pygments_lexer": "ipython3",
   "version": "3.10.6"
  },
  "orig_nbformat": 4,
  "vscode": {
   "interpreter": {
    "hash": "f9928f5223d8a88e3c04e253c812eaee5c74370395d95b96e4e3403f400b169d"
   }
  }
 },
 "nbformat": 4,
 "nbformat_minor": 2
}
